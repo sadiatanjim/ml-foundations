{
  "nbformat": 4,
  "nbformat_minor": 0,
  "metadata": {
    "kernelspec": {
      "display_name": "Python 3",
      "language": "python",
      "name": "python3"
    },
    "language_info": {
      "codemirror_mode": {
        "name": "ipython",
        "version": 3
      },
      "file_extension": ".py",
      "mimetype": "text/x-python",
      "name": "python",
      "nbconvert_exporter": "python",
      "pygments_lexer": "ipython3",
      "version": "3.5.2"
    },
    "colab": {
      "name": "Getting started with Jupyter Notebook.ipynb",
      "provenance": [],
      "toc_visible": true,
      "include_colab_link": true
    }
  },
  "cells": [
    {
      "cell_type": "markdown",
      "metadata": {
        "id": "view-in-github",
        "colab_type": "text"
      },
      "source": [
        "<a href=\"https://colab.research.google.com/github/sadiatanjim/ml-foundations/blob/master/Getting_started_with_Jupyter_Notebook.ipynb\" target=\"_parent\"><img src=\"https://colab.research.google.com/assets/colab-badge.svg\" alt=\"Open In Colab\"/></a>"
      ]
    },
    {
      "cell_type": "markdown",
      "metadata": {
        "id": "d0u3TyoFqwFL",
        "colab_type": "text"
      },
      "source": [
        "# Installing Python and Turi Create"
      ]
    },
    {
      "cell_type": "markdown",
      "metadata": {
        "id": "ENMcvVSlqwFM",
        "colab_type": "text"
      },
      "source": [
        "Please follow the installation instructions [here](https://www.coursera.org/learn/ml-foundations/supplement/5HQGl/reading-getting-started-with-python-jupyter-notebook-turi-create) before getting started:\n",
        "\n",
        "\n",
        "## So far, we have\n",
        "* Installed Python\n",
        "* Started Jupyter Notebook"
      ]
    },
    {
      "cell_type": "markdown",
      "metadata": {
        "id": "owZcK7NVqwFP",
        "colab_type": "text"
      },
      "source": [
        "# Getting started with Python"
      ]
    },
    {
      "cell_type": "code",
      "metadata": {
        "id": "3EFgntKmqwFQ",
        "colab_type": "code",
        "colab": {}
      },
      "source": [
        "print('Hello World!')"
      ],
      "execution_count": 0,
      "outputs": []
    },
    {
      "cell_type": "markdown",
      "metadata": {
        "id": "KhJ45GV7qwFV",
        "colab_type": "text"
      },
      "source": [
        "## Create some variables in Python"
      ]
    },
    {
      "cell_type": "code",
      "metadata": {
        "id": "f3m_S_hRqwFW",
        "colab_type": "code",
        "colab": {}
      },
      "source": [
        "i = 4  #int"
      ],
      "execution_count": 0,
      "outputs": []
    },
    {
      "cell_type": "code",
      "metadata": {
        "id": "tKa9JfWXqwFa",
        "colab_type": "code",
        "colab": {}
      },
      "source": [
        "type(i)"
      ],
      "execution_count": 0,
      "outputs": []
    },
    {
      "cell_type": "code",
      "metadata": {
        "id": "Zkn3onzRqwFe",
        "colab_type": "code",
        "colab": {}
      },
      "source": [
        "f = 4.1  #float"
      ],
      "execution_count": 0,
      "outputs": []
    },
    {
      "cell_type": "code",
      "metadata": {
        "id": "0BwNDrYZqwFi",
        "colab_type": "code",
        "colab": {}
      },
      "source": [
        "type(f)"
      ],
      "execution_count": 0,
      "outputs": []
    },
    {
      "cell_type": "code",
      "metadata": {
        "id": "FadAurIBqwFm",
        "colab_type": "code",
        "colab": {}
      },
      "source": [
        "b = True  #boolean variable"
      ],
      "execution_count": 0,
      "outputs": []
    },
    {
      "cell_type": "code",
      "metadata": {
        "id": "f9qKk5i4qwFq",
        "colab_type": "code",
        "colab": {}
      },
      "source": [
        "s = \"This is a string!\""
      ],
      "execution_count": 0,
      "outputs": []
    },
    {
      "cell_type": "code",
      "metadata": {
        "id": "lZuddk6oqwFu",
        "colab_type": "code",
        "colab": {}
      },
      "source": [
        "print(s)"
      ],
      "execution_count": 0,
      "outputs": []
    },
    {
      "cell_type": "markdown",
      "metadata": {
        "id": "I1wH5pHXqwFx",
        "colab_type": "text"
      },
      "source": [
        "## Advanced python types"
      ]
    },
    {
      "cell_type": "code",
      "metadata": {
        "id": "-XxTpNdGqwFy",
        "colab_type": "code",
        "colab": {}
      },
      "source": [
        "l = [3,1,2]  #list"
      ],
      "execution_count": 0,
      "outputs": []
    },
    {
      "cell_type": "code",
      "metadata": {
        "id": "z1YmaiPsqwF1",
        "colab_type": "code",
        "colab": {}
      },
      "source": [
        "print(l)"
      ],
      "execution_count": 0,
      "outputs": []
    },
    {
      "cell_type": "code",
      "metadata": {
        "id": "yeFs1ayQqwF3",
        "colab_type": "code",
        "colab": {}
      },
      "source": [
        "d = {'foo':1, 'bar':2.3, 's':'my first dictionary'}  #dictionary"
      ],
      "execution_count": 0,
      "outputs": []
    },
    {
      "cell_type": "code",
      "metadata": {
        "id": "NBAbjuY3qwF7",
        "colab_type": "code",
        "colab": {}
      },
      "source": [
        "print(d)"
      ],
      "execution_count": 0,
      "outputs": []
    },
    {
      "cell_type": "code",
      "metadata": {
        "id": "j3BznB5pqwF_",
        "colab_type": "code",
        "colab": {}
      },
      "source": [
        "print(d['foo'])  #element of a dictionary"
      ],
      "execution_count": 0,
      "outputs": []
    },
    {
      "cell_type": "code",
      "metadata": {
        "id": "DXy0YeFuqwGC",
        "colab_type": "code",
        "colab": {}
      },
      "source": [
        "n = None  #Python's null type"
      ],
      "execution_count": 0,
      "outputs": []
    },
    {
      "cell_type": "code",
      "metadata": {
        "id": "z0P08P1mqwGF",
        "colab_type": "code",
        "outputId": "d7ef829f-2eb1-4cdd-f23d-c3a9cbd8d458",
        "colab": {
          "base_uri": "https://localhost:8080/",
          "height": 34
        }
      },
      "source": [
        "type(n)"
      ],
      "execution_count": 0,
      "outputs": [
        {
          "output_type": "execute_result",
          "data": {
            "text/plain": [
              "NoneType"
            ]
          },
          "metadata": {
            "tags": []
          },
          "execution_count": 2
        }
      ]
    },
    {
      "cell_type": "markdown",
      "metadata": {
        "id": "ets0yTaqqwGI",
        "colab_type": "text"
      },
      "source": [
        "## Advanced printing"
      ]
    },
    {
      "cell_type": "code",
      "metadata": {
        "id": "-SXlKp0oqwGK",
        "colab_type": "code",
        "outputId": "16a86246-0eda-4934-f9e6-185a15f3296e",
        "colab": {
          "base_uri": "https://localhost:8080/",
          "height": 34
        }
      },
      "source": [
        "print(\"Our float value is %s. Our int value is %s.\" % (f,i))  #Python is pretty good with strings"
      ],
      "execution_count": 0,
      "outputs": [
        {
          "output_type": "stream",
          "text": [
            "Our float value is 4.1. Our int value is 4.\n"
          ],
          "name": "stdout"
        }
      ]
    },
    {
      "cell_type": "markdown",
      "metadata": {
        "id": "QOjT5L_iqwGP",
        "colab_type": "text"
      },
      "source": [
        "## Conditional statements in python"
      ]
    },
    {
      "cell_type": "code",
      "metadata": {
        "id": "XbpPawTiqwGQ",
        "colab_type": "code",
        "colab": {}
      },
      "source": [
        "if i == 1 and f > 4:\n",
        "    print(\"The value of i is 1 and f is greater than 4.\")\n",
        "elif i > 4 or f > 4:\n",
        "    print(\"i or f are both greater than 4.\")\n",
        "else:\n",
        "    print(\"both i and f are less than or equal to 4\")\n"
      ],
      "execution_count": 0,
      "outputs": []
    },
    {
      "cell_type": "markdown",
      "metadata": {
        "id": "epOZjRPtqwGV",
        "colab_type": "text"
      },
      "source": [
        "## Conditional loops"
      ]
    },
    {
      "cell_type": "code",
      "metadata": {
        "id": "TM7kDwVZqwGW",
        "colab_type": "code",
        "outputId": "502f3ab7-5e6a-4f6f-f83a-1f05c9bfe0b2",
        "colab": {
          "base_uri": "https://localhost:8080/",
          "height": 34
        }
      },
      "source": [
        "print(l)"
      ],
      "execution_count": 0,
      "outputs": [
        {
          "output_type": "stream",
          "text": [
            "[3, 1, 2]\n"
          ],
          "name": "stdout"
        }
      ]
    },
    {
      "cell_type": "code",
      "metadata": {
        "id": "VYLyVYrqqwGY",
        "colab_type": "code",
        "outputId": "3ef31c63-3f60-4d80-8b58-5fff5621229d",
        "colab": {
          "base_uri": "https://localhost:8080/",
          "height": 68
        }
      },
      "source": [
        "for e in l:\n",
        "    print(e)"
      ],
      "execution_count": 0,
      "outputs": [
        {
          "output_type": "stream",
          "text": [
            "3\n",
            "1\n",
            "2\n"
          ],
          "name": "stdout"
        }
      ]
    },
    {
      "cell_type": "markdown",
      "metadata": {
        "id": "ho5cUfclqwGb",
        "colab_type": "text"
      },
      "source": [
        "Note that in Python, we don't use {} or other markers to indicate the part of the loop that gets iterated.  Instead, we just indent and align each of the iterated statements with spaces or tabs. (You can use as many as you want, as long as the lines are aligned.)"
      ]
    },
    {
      "cell_type": "code",
      "metadata": {
        "id": "tbz94qEsqwGb",
        "colab_type": "code",
        "outputId": "731ce32d-f90b-4da9-be4b-117c8323a3b8",
        "colab": {
          "base_uri": "https://localhost:8080/",
          "height": 85
        }
      },
      "source": [
        "counter = 6\n",
        "while counter < 10:\n",
        "    print(counter)\n",
        "    counter += 1"
      ],
      "execution_count": 0,
      "outputs": [
        {
          "output_type": "stream",
          "text": [
            "6\n",
            "7\n",
            "8\n",
            "9\n"
          ],
          "name": "stdout"
        }
      ]
    },
    {
      "cell_type": "markdown",
      "metadata": {
        "collapsed": true,
        "id": "leEKLkPDqwGe",
        "colab_type": "text"
      },
      "source": [
        "# Creating functions in Python\n",
        "\n",
        "Again, we don't use {}, but just indent the lines that are part of the function."
      ]
    },
    {
      "cell_type": "code",
      "metadata": {
        "id": "RiqyEx4fqwGf",
        "colab_type": "code",
        "colab": {}
      },
      "source": [
        "def add2(x):\n",
        "    y = x + 2\n",
        "    return y"
      ],
      "execution_count": 0,
      "outputs": []
    },
    {
      "cell_type": "code",
      "metadata": {
        "id": "L_RbhCr2qwGi",
        "colab_type": "code",
        "colab": {}
      },
      "source": [
        "i = 5"
      ],
      "execution_count": 0,
      "outputs": []
    },
    {
      "cell_type": "code",
      "metadata": {
        "id": "R7d1ZEMDqwGl",
        "colab_type": "code",
        "outputId": "7862f815-f4f1-457b-e021-496306002fdb",
        "colab": {
          "base_uri": "https://localhost:8080/",
          "height": 34
        }
      },
      "source": [
        "add2(i)"
      ],
      "execution_count": 0,
      "outputs": [
        {
          "output_type": "execute_result",
          "data": {
            "text/plain": [
              "7"
            ]
          },
          "metadata": {
            "tags": []
          },
          "execution_count": 12
        }
      ]
    },
    {
      "cell_type": "markdown",
      "metadata": {
        "id": "s5L4tFe1qwGq",
        "colab_type": "text"
      },
      "source": [
        "We can also define simple functions with lambdas:"
      ]
    },
    {
      "cell_type": "code",
      "metadata": {
        "id": "GRDldWPMqwGq",
        "colab_type": "code",
        "colab": {}
      },
      "source": [
        "square = lambda x: x*x"
      ],
      "execution_count": 0,
      "outputs": []
    },
    {
      "cell_type": "code",
      "metadata": {
        "id": "rmDi-EXitk1m",
        "colab_type": "code",
        "colab": {}
      },
      "source": [
        "def square(x):\n",
        "    y = x*x\n",
        "    return y"
      ],
      "execution_count": 0,
      "outputs": []
    },
    {
      "cell_type": "code",
      "metadata": {
        "id": "IS5_BZN8qwGt",
        "colab_type": "code",
        "colab": {}
      },
      "source": [
        "n = 4"
      ],
      "execution_count": 0,
      "outputs": []
    },
    {
      "cell_type": "code",
      "metadata": {
        "id": "4wU0gdautNVv",
        "colab_type": "code",
        "outputId": "ac3d32ea-8e7f-4f80-e25a-5dc20c16d7d7",
        "colab": {
          "base_uri": "https://localhost:8080/",
          "height": 34
        }
      },
      "source": [
        "square(n)"
      ],
      "execution_count": 0,
      "outputs": [
        {
          "output_type": "execute_result",
          "data": {
            "text/plain": [
              "16"
            ]
          },
          "metadata": {
            "tags": []
          },
          "execution_count": 16
        }
      ]
    }
  ]
}